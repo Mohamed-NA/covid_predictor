{
 "cells": [
  {
   "cell_type": "markdown",
   "metadata": {
    "id": "NX8D_RF4EWfz"
   },
   "source": [
    "# **Feature Engineering Notebook**\n",
    "\n",
    "This notebook handles:\n",
    "\n",
    "\n",
    "  1. Encode categorical variables\n",
    "\n",
    "  2. Perform feature engineering on date columns\n",
    "\n",
    "\n"
   ]
  },
  {
   "cell_type": "markdown",
   "metadata": {
    "id": "C5vPMPTiEwX1"
   },
   "source": [
    "## Load Dataset"
   ]
  },
  {
   "cell_type": "code",
   "execution_count": 3,
   "metadata": {
    "id": "14fRYotlC06E"
   },
   "outputs": [],
   "source": [
    "import pandas as pd\n",
    "import numpy as np\n",
    "from sklearn.preprocessing import LabelEncoder"
   ]
  },
  {
   "cell_type": "code",
   "execution_count": 4,
   "metadata": {
    "colab": {
     "base_uri": "https://localhost:8080/",
     "height": 273
    },
    "id": "9K9oaG6ZE9VS",
    "outputId": "5f426ed5-aca4-4bd2-d4e3-2b92541a137e"
   },
   "outputs": [
    {
     "data": {
      "text/html": [
       "<div>\n",
       "<style scoped>\n",
       "    .dataframe tbody tr th:only-of-type {\n",
       "        vertical-align: middle;\n",
       "    }\n",
       "\n",
       "    .dataframe tbody tr th {\n",
       "        vertical-align: top;\n",
       "    }\n",
       "\n",
       "    .dataframe thead th {\n",
       "        text-align: right;\n",
       "    }\n",
       "</style>\n",
       "<table border=\"1\" class=\"dataframe\">\n",
       "  <thead>\n",
       "    <tr style=\"text-align: right;\">\n",
       "      <th></th>\n",
       "      <th>Age</th>\n",
       "      <th>Gender</th>\n",
       "      <th>Region</th>\n",
       "      <th>Preexisting_Condition</th>\n",
       "      <th>Date_of_Infection</th>\n",
       "      <th>COVID_Strain</th>\n",
       "      <th>Symptoms</th>\n",
       "      <th>Severity</th>\n",
       "      <th>Hospitalized</th>\n",
       "      <th>Hospital_Admission_Date</th>\n",
       "      <th>...</th>\n",
       "      <th>Date_of_Reinfection</th>\n",
       "      <th>Vaccination_Status</th>\n",
       "      <th>Vaccine_Type</th>\n",
       "      <th>Doses_Received</th>\n",
       "      <th>Date_of_Last_Dose</th>\n",
       "      <th>Long_COVID_Symptoms</th>\n",
       "      <th>Occupation</th>\n",
       "      <th>Smoking_Status</th>\n",
       "      <th>BMI</th>\n",
       "      <th>Recovery_Classification</th>\n",
       "    </tr>\n",
       "  </thead>\n",
       "  <tbody>\n",
       "    <tr>\n",
       "      <th>0</th>\n",
       "      <td>69</td>\n",
       "      <td>Male</td>\n",
       "      <td>Hovedstaden</td>\n",
       "      <td>Obesity</td>\n",
       "      <td>2022-06-21</td>\n",
       "      <td>Delta</td>\n",
       "      <td>Mild</td>\n",
       "      <td>Moderate</td>\n",
       "      <td>Yes</td>\n",
       "      <td>2025-01-13</td>\n",
       "      <td>...</td>\n",
       "      <td>2022-12-15</td>\n",
       "      <td>Yes</td>\n",
       "      <td>NaN</td>\n",
       "      <td>1</td>\n",
       "      <td>2022-09-22</td>\n",
       "      <td>NaN</td>\n",
       "      <td>Healthcare</td>\n",
       "      <td>Never</td>\n",
       "      <td>27.7</td>\n",
       "      <td>Delayed Recovery</td>\n",
       "    </tr>\n",
       "    <tr>\n",
       "      <th>1</th>\n",
       "      <td>38</td>\n",
       "      <td>Male</td>\n",
       "      <td>Sjælland</td>\n",
       "      <td>Asthma</td>\n",
       "      <td>2024-02-02</td>\n",
       "      <td>XBB.1.5</td>\n",
       "      <td>Mild</td>\n",
       "      <td>Moderate</td>\n",
       "      <td>No</td>\n",
       "      <td>2024-02-03</td>\n",
       "      <td>...</td>\n",
       "      <td>2024-06-08</td>\n",
       "      <td>No</td>\n",
       "      <td>NaN</td>\n",
       "      <td>0</td>\n",
       "      <td>2023-08-21</td>\n",
       "      <td>NaN</td>\n",
       "      <td>Healthcare</td>\n",
       "      <td>Never</td>\n",
       "      <td>21.9</td>\n",
       "      <td>Typical Recovery</td>\n",
       "    </tr>\n",
       "    <tr>\n",
       "      <th>2</th>\n",
       "      <td>41</td>\n",
       "      <td>Female</td>\n",
       "      <td>Syddanmark</td>\n",
       "      <td>Hypertension</td>\n",
       "      <td>2023-05-28</td>\n",
       "      <td>Beta</td>\n",
       "      <td>Mild</td>\n",
       "      <td>High</td>\n",
       "      <td>Yes</td>\n",
       "      <td>2025-03-07</td>\n",
       "      <td>...</td>\n",
       "      <td>2023-12-19</td>\n",
       "      <td>Yes</td>\n",
       "      <td>Janssen</td>\n",
       "      <td>3</td>\n",
       "      <td>2024-05-14</td>\n",
       "      <td>NaN</td>\n",
       "      <td>Unemployed</td>\n",
       "      <td>Never</td>\n",
       "      <td>22.7</td>\n",
       "      <td>Delayed Recovery</td>\n",
       "    </tr>\n",
       "    <tr>\n",
       "      <th>3</th>\n",
       "      <td>81</td>\n",
       "      <td>Female</td>\n",
       "      <td>Hovedstaden</td>\n",
       "      <td>Asthma</td>\n",
       "      <td>2023-08-13</td>\n",
       "      <td>Delta</td>\n",
       "      <td>Severe</td>\n",
       "      <td>High</td>\n",
       "      <td>No</td>\n",
       "      <td>2023-08-15</td>\n",
       "      <td>...</td>\n",
       "      <td>2024-08-24</td>\n",
       "      <td>Yes</td>\n",
       "      <td>AstraZeneca</td>\n",
       "      <td>1</td>\n",
       "      <td>2024-10-31</td>\n",
       "      <td>NaN</td>\n",
       "      <td>Office Worker</td>\n",
       "      <td>Never</td>\n",
       "      <td>27.7</td>\n",
       "      <td>Delayed Recovery</td>\n",
       "    </tr>\n",
       "    <tr>\n",
       "      <th>4</th>\n",
       "      <td>50</td>\n",
       "      <td>Female</td>\n",
       "      <td>Syddanmark</td>\n",
       "      <td>Cardiovascular</td>\n",
       "      <td>2023-03-10</td>\n",
       "      <td>Delta</td>\n",
       "      <td>Mild</td>\n",
       "      <td>High</td>\n",
       "      <td>No</td>\n",
       "      <td>2023-03-12</td>\n",
       "      <td>...</td>\n",
       "      <td>2023-09-08</td>\n",
       "      <td>Yes</td>\n",
       "      <td>NaN</td>\n",
       "      <td>2</td>\n",
       "      <td>2023-07-05</td>\n",
       "      <td>NaN</td>\n",
       "      <td>Student</td>\n",
       "      <td>Never</td>\n",
       "      <td>11.9</td>\n",
       "      <td>Delayed Recovery</td>\n",
       "    </tr>\n",
       "  </tbody>\n",
       "</table>\n",
       "<p>5 rows × 26 columns</p>\n",
       "</div>"
      ],
      "text/plain": [
       "   Age  Gender       Region Preexisting_Condition Date_of_Infection  \\\n",
       "0   69    Male  Hovedstaden               Obesity        2022-06-21   \n",
       "1   38    Male     Sjælland                Asthma        2024-02-02   \n",
       "2   41  Female   Syddanmark          Hypertension        2023-05-28   \n",
       "3   81  Female  Hovedstaden                Asthma        2023-08-13   \n",
       "4   50  Female   Syddanmark        Cardiovascular        2023-03-10   \n",
       "\n",
       "  COVID_Strain Symptoms  Severity Hospitalized Hospital_Admission_Date  ...  \\\n",
       "0        Delta     Mild  Moderate          Yes              2025-01-13  ...   \n",
       "1      XBB.1.5     Mild  Moderate           No              2024-02-03  ...   \n",
       "2         Beta     Mild      High          Yes              2025-03-07  ...   \n",
       "3        Delta   Severe      High           No              2023-08-15  ...   \n",
       "4        Delta     Mild      High           No              2023-03-12  ...   \n",
       "\n",
       "  Date_of_Reinfection Vaccination_Status Vaccine_Type Doses_Received  \\\n",
       "0          2022-12-15                Yes          NaN              1   \n",
       "1          2024-06-08                 No          NaN              0   \n",
       "2          2023-12-19                Yes      Janssen              3   \n",
       "3          2024-08-24                Yes  AstraZeneca              1   \n",
       "4          2023-09-08                Yes          NaN              2   \n",
       "\n",
       "  Date_of_Last_Dose Long_COVID_Symptoms     Occupation Smoking_Status   BMI  \\\n",
       "0        2022-09-22                 NaN     Healthcare          Never  27.7   \n",
       "1        2023-08-21                 NaN     Healthcare          Never  21.9   \n",
       "2        2024-05-14                 NaN     Unemployed          Never  22.7   \n",
       "3        2024-10-31                 NaN  Office Worker          Never  27.7   \n",
       "4        2023-07-05                 NaN        Student          Never  11.9   \n",
       "\n",
       "   Recovery_Classification  \n",
       "0         Delayed Recovery  \n",
       "1         Typical Recovery  \n",
       "2         Delayed Recovery  \n",
       "3         Delayed Recovery  \n",
       "4         Delayed Recovery  \n",
       "\n",
       "[5 rows x 26 columns]"
      ]
     },
     "execution_count": 4,
     "metadata": {},
     "output_type": "execute_result"
    }
   ],
   "source": [
    "df = pd.read_csv('../data/Cleaned_Data.csv')\n",
    "df.head()"
   ]
  },
  {
   "cell_type": "code",
   "execution_count": 5,
   "metadata": {
    "colab": {
     "base_uri": "https://localhost:8080/",
     "height": 930
    },
    "id": "mzuWbCT1FKBJ",
    "outputId": "6729b9e2-0ce8-43e0-fbe9-3fbe720c1595"
   },
   "outputs": [
    {
     "data": {
      "text/plain": [
       "Age                           0\n",
       "Gender                        0\n",
       "Region                        0\n",
       "Preexisting_Condition       434\n",
       "Date_of_Infection             0\n",
       "COVID_Strain                  0\n",
       "Symptoms                      0\n",
       "Severity                      0\n",
       "Hospitalized                  0\n",
       "Hospital_Admission_Date       0\n",
       "Hospital_Discharge_Date       0\n",
       "ICU_Admission                 0\n",
       "Ventilator_Support            0\n",
       "Recovered                     0\n",
       "Date_of_Recovery              0\n",
       "Reinfection                   0\n",
       "Date_of_Reinfection           0\n",
       "Vaccination_Status            0\n",
       "Vaccine_Type               1708\n",
       "Doses_Received                0\n",
       "Date_of_Last_Dose             0\n",
       "Long_COVID_Symptoms        2612\n",
       "Occupation                    0\n",
       "Smoking_Status                0\n",
       "BMI                           0\n",
       "Recovery_Classification       0\n",
       "dtype: int64"
      ]
     },
     "execution_count": 5,
     "metadata": {},
     "output_type": "execute_result"
    }
   ],
   "source": [
    "df.isnull().sum()"
   ]
  },
  {
   "cell_type": "code",
   "execution_count": 6,
   "metadata": {
    "colab": {
     "base_uri": "https://localhost:8080/"
    },
    "id": "UyQRvg3FGKmV",
    "outputId": "34aeb445-17e2-44ad-9c45-cbb1fa7d1d69"
   },
   "outputs": [
    {
     "name": "stdout",
     "output_type": "stream",
     "text": [
      "<class 'pandas.core.frame.DataFrame'>\n",
      "RangeIndex: 2832 entries, 0 to 2831\n",
      "Data columns (total 26 columns):\n",
      " #   Column                   Non-Null Count  Dtype  \n",
      "---  ------                   --------------  -----  \n",
      " 0   Age                      2832 non-null   int64  \n",
      " 1   Gender                   2832 non-null   object \n",
      " 2   Region                   2832 non-null   object \n",
      " 3   Preexisting_Condition    2398 non-null   object \n",
      " 4   Date_of_Infection        2832 non-null   object \n",
      " 5   COVID_Strain             2832 non-null   object \n",
      " 6   Symptoms                 2832 non-null   object \n",
      " 7   Severity                 2832 non-null   object \n",
      " 8   Hospitalized             2832 non-null   object \n",
      " 9   Hospital_Admission_Date  2832 non-null   object \n",
      " 10  Hospital_Discharge_Date  2832 non-null   object \n",
      " 11  ICU_Admission            2832 non-null   object \n",
      " 12  Ventilator_Support       2832 non-null   object \n",
      " 13  Recovered                2832 non-null   object \n",
      " 14  Date_of_Recovery         2832 non-null   object \n",
      " 15  Reinfection              2832 non-null   object \n",
      " 16  Date_of_Reinfection      2832 non-null   object \n",
      " 17  Vaccination_Status       2832 non-null   object \n",
      " 18  Vaccine_Type             1124 non-null   object \n",
      " 19  Doses_Received           2832 non-null   int64  \n",
      " 20  Date_of_Last_Dose        2832 non-null   object \n",
      " 21  Long_COVID_Symptoms      220 non-null    object \n",
      " 22  Occupation               2832 non-null   object \n",
      " 23  Smoking_Status           2832 non-null   object \n",
      " 24  BMI                      2832 non-null   float64\n",
      " 25  Recovery_Classification  2832 non-null   object \n",
      "dtypes: float64(1), int64(2), object(23)\n",
      "memory usage: 575.4+ KB\n"
     ]
    }
   ],
   "source": [
    "df.info()"
   ]
  },
  {
   "cell_type": "code",
   "execution_count": 7,
   "metadata": {},
   "outputs": [],
   "source": [
    "date_cols = [col for col in df.columns if \"Date\" in col]\n",
    "for col in date_cols:\n",
    "    df[col] = pd.to_datetime(df[col], errors='coerce')"
   ]
  },
  {
   "cell_type": "code",
   "execution_count": 8,
   "metadata": {},
   "outputs": [
    {
     "name": "stdout",
     "output_type": "stream",
     "text": [
      "<class 'pandas.core.frame.DataFrame'>\n",
      "RangeIndex: 2832 entries, 0 to 2831\n",
      "Data columns (total 26 columns):\n",
      " #   Column                   Non-Null Count  Dtype         \n",
      "---  ------                   --------------  -----         \n",
      " 0   Age                      2832 non-null   int64         \n",
      " 1   Gender                   2832 non-null   object        \n",
      " 2   Region                   2832 non-null   object        \n",
      " 3   Preexisting_Condition    2398 non-null   object        \n",
      " 4   Date_of_Infection        2832 non-null   datetime64[ns]\n",
      " 5   COVID_Strain             2832 non-null   object        \n",
      " 6   Symptoms                 2832 non-null   object        \n",
      " 7   Severity                 2832 non-null   object        \n",
      " 8   Hospitalized             2832 non-null   object        \n",
      " 9   Hospital_Admission_Date  2832 non-null   datetime64[ns]\n",
      " 10  Hospital_Discharge_Date  2832 non-null   datetime64[ns]\n",
      " 11  ICU_Admission            2832 non-null   object        \n",
      " 12  Ventilator_Support       2832 non-null   object        \n",
      " 13  Recovered                2832 non-null   object        \n",
      " 14  Date_of_Recovery         2832 non-null   datetime64[ns]\n",
      " 15  Reinfection              2832 non-null   object        \n",
      " 16  Date_of_Reinfection      2832 non-null   datetime64[ns]\n",
      " 17  Vaccination_Status       2832 non-null   object        \n",
      " 18  Vaccine_Type             1124 non-null   object        \n",
      " 19  Doses_Received           2832 non-null   int64         \n",
      " 20  Date_of_Last_Dose        2832 non-null   datetime64[ns]\n",
      " 21  Long_COVID_Symptoms      220 non-null    object        \n",
      " 22  Occupation               2832 non-null   object        \n",
      " 23  Smoking_Status           2832 non-null   object        \n",
      " 24  BMI                      2832 non-null   float64       \n",
      " 25  Recovery_Classification  2832 non-null   object        \n",
      "dtypes: datetime64[ns](6), float64(1), int64(2), object(17)\n",
      "memory usage: 575.4+ KB\n"
     ]
    }
   ],
   "source": [
    "df.info()"
   ]
  },
  {
   "cell_type": "markdown",
   "metadata": {},
   "source": [
    "# Encoding Features"
   ]
  },
  {
   "cell_type": "markdown",
   "metadata": {},
   "source": [
    "## Convert Binary Columns to Numeric Format"
   ]
  },
  {
   "cell_type": "code",
   "execution_count": 11,
   "metadata": {},
   "outputs": [],
   "source": [
    "binary_cols = ['Hospitalized', 'ICU_Admission', 'Ventilator_Support', 'Recovered', 'Vaccination_Status']\n",
    "for col in binary_cols:\n",
    "    df[col] = df[col].map({'Yes': 1, 'No': 0})"
   ]
  },
  {
   "cell_type": "markdown",
   "metadata": {},
   "source": [
    "## Encode Reinfection Column (Yes/No → 1/0)"
   ]
  },
  {
   "cell_type": "code",
   "execution_count": 13,
   "metadata": {},
   "outputs": [],
   "source": [
    "df['Reinfection'] = df['Reinfection'].map({'Yes': 1, 'No': 0})"
   ]
  },
  {
   "cell_type": "markdown",
   "metadata": {},
   "source": [
    "## Encode Remaining Categorical Features Using Label Encoding"
   ]
  },
  {
   "cell_type": "code",
   "execution_count": 15,
   "metadata": {},
   "outputs": [],
   "source": [
    "categorical_cols = df.select_dtypes(include=['object']).columns\n",
    "label_encoders = {}\n",
    "for col in categorical_cols:\n",
    "    le = LabelEncoder()\n",
    "    df[col] = le.fit_transform(df[col].astype(str))\n",
    "    label_encoders[col] = le"
   ]
  },
  {
   "cell_type": "markdown",
   "metadata": {
    "id": "onZtUhBoEw3x"
   },
   "source": [
    "## Infection & Recovery Durations\n"
   ]
  },
  {
   "cell_type": "code",
   "execution_count": 17,
   "metadata": {
    "id": "D--Uctl3ExQZ"
   },
   "outputs": [],
   "source": [
    "df[\"Recovery_Duration\"] = (df[\"Date_of_Recovery\"] - df[\"Date_of_Infection\"]).dt.days\n",
    "df[\"Time_to_Reinfection\"] = (df[\"Date_of_Reinfection\"] - df[\"Date_of_Recovery\"]).dt.days\n",
    "df[\"Reinfected_Later\"] = df[\"Time_to_Reinfection\"].apply(lambda x: 1 if x > 0 else 0)\n"
   ]
  },
  {
   "cell_type": "markdown",
   "metadata": {
    "id": "RS-Ugcf6Exgh"
   },
   "source": [
    "## Vaccine and Infection Timing\n"
   ]
  },
  {
   "cell_type": "code",
   "execution_count": 19,
   "metadata": {
    "id": "Y9TI5qg8Ffsp"
   },
   "outputs": [],
   "source": [
    "df[\"Vaccine_to_Infection_Days\"] = (df[\"Date_of_Infection\"] - df[\"Date_of_Last_Dose\"]).dt.days\n",
    "df[\"Infected_soon_after_vaccine\"] = df[\"Vaccine_to_Infection_Days\"].apply(lambda x: 1 if 0 <= x <= 14 else 0)\n"
   ]
  },
  {
   "cell_type": "markdown",
   "metadata": {
    "id": "yQY37Dz3FXKa"
   },
   "source": [
    "## Hospital Stay Information"
   ]
  },
  {
   "cell_type": "code",
   "execution_count": 21,
   "metadata": {
    "id": "cgXw8y2VFgFB"
   },
   "outputs": [],
   "source": [
    "df[\"Hospital_Stay_Duration\"] = (df[\"Hospital_Discharge_Date\"] - df[\"Hospital_Admission_Date\"]).dt.days\n",
    "df[\"Hospital_Stay_Duration\"] = df[\"Hospital_Stay_Duration\"].apply(lambda x: x if x >= 0 else 0)\n"
   ]
  },
  {
   "cell_type": "markdown",
   "metadata": {
    "id": "4UKayXvtFXIu"
   },
   "source": [
    "## Feature Engineering – Pre-Train/Test Split\n"
   ]
  },
  {
   "cell_type": "code",
   "execution_count": 23,
   "metadata": {
    "id": "yOH2tG3DFohZ"
   },
   "outputs": [],
   "source": [
    "df[\"Age_Preexisting\"] = df[\"Age\"] * df[\"Preexisting_Condition\"]\n",
    "df[\"Vaccine_Infection\"] = df[\"Vaccination_Status\"] * df[\"Vaccine_to_Infection_Days\"]\n",
    "df['Smoke_Preexist'] = df['Smoking_Status'] * df['Preexisting_Condition']\n"
   ]
  },
  {
   "cell_type": "markdown",
   "metadata": {
    "id": "eHM3ALjnFXGi"
   },
   "source": [
    "## Vaccine and Reinfection Relations"
   ]
  },
  {
   "cell_type": "code",
   "execution_count": 25,
   "metadata": {
    "id": "i4LcXRO0Fr1L"
   },
   "outputs": [],
   "source": [
    "df['Vaccine_to_Reinfection'] = df['Time_to_Reinfection'] - df['Vaccine_to_Infection_Days']\n",
    "df['Vaccinated_Before_Infection'] = (df['Vaccine_to_Infection_Days'] > 0).astype(int)\n"
   ]
  },
  {
   "cell_type": "markdown",
   "metadata": {
    "id": "KN_Lqm6bFXED"
   },
   "source": [
    "## Ratio-Based Features"
   ]
  },
  {
   "cell_type": "code",
   "execution_count": 27,
   "metadata": {
    "id": "7-wPZGSYFvCa"
   },
   "outputs": [],
   "source": [
    "df['Recovery_per_Stay'] = df['Recovery_Duration'] / (df['Hospital_Stay_Duration'] + 1)\n",
    "df['Time_to_Reinfection_per_Recovery'] = df['Time_to_Reinfection'] / (df['Recovery_Duration'] + 1)\n"
   ]
  },
  {
   "cell_type": "markdown",
   "metadata": {
    "id": "n7dQ6fXuF8hg"
   },
   "source": [
    "## Drop Date Columns"
   ]
  },
  {
   "cell_type": "code",
   "execution_count": 29,
   "metadata": {
    "id": "vbN0yM3aF_OV"
   },
   "outputs": [],
   "source": [
    "df.drop(columns=[\n",
    "    \"Date_of_Infection\", \"Date_of_Recovery\", \"Date_of_Reinfection\",\n",
    "    \"Hospital_Admission_Date\", \"Hospital_Discharge_Date\", \"Date_of_Last_Dose\"\n",
    "], inplace=True)"
   ]
  },
  {
   "cell_type": "code",
   "execution_count": 30,
   "metadata": {
    "colab": {
     "base_uri": "https://localhost:8080/"
    },
    "id": "jwDsSlIoGCOS",
    "outputId": "dbb4affc-7b2d-4c4b-e2a1-c119330d04ef"
   },
   "outputs": [
    {
     "data": {
      "text/plain": [
       "(2832, 33)"
      ]
     },
     "execution_count": 30,
     "metadata": {},
     "output_type": "execute_result"
    }
   ],
   "source": [
    "df.shape"
   ]
  },
  {
   "cell_type": "code",
   "execution_count": 31,
   "metadata": {
    "colab": {
     "base_uri": "https://localhost:8080/",
     "height": 273
    },
    "id": "xXexIXFCGEWU",
    "outputId": "f16f1e12-2581-4756-be89-f662de232adf"
   },
   "outputs": [
    {
     "data": {
      "text/html": [
       "<div>\n",
       "<style scoped>\n",
       "    .dataframe tbody tr th:only-of-type {\n",
       "        vertical-align: middle;\n",
       "    }\n",
       "\n",
       "    .dataframe tbody tr th {\n",
       "        vertical-align: top;\n",
       "    }\n",
       "\n",
       "    .dataframe thead th {\n",
       "        text-align: right;\n",
       "    }\n",
       "</style>\n",
       "<table border=\"1\" class=\"dataframe\">\n",
       "  <thead>\n",
       "    <tr style=\"text-align: right;\">\n",
       "      <th></th>\n",
       "      <th>Age</th>\n",
       "      <th>Gender</th>\n",
       "      <th>Region</th>\n",
       "      <th>Preexisting_Condition</th>\n",
       "      <th>COVID_Strain</th>\n",
       "      <th>Symptoms</th>\n",
       "      <th>Severity</th>\n",
       "      <th>Hospitalized</th>\n",
       "      <th>ICU_Admission</th>\n",
       "      <th>Ventilator_Support</th>\n",
       "      <th>...</th>\n",
       "      <th>Vaccine_to_Infection_Days</th>\n",
       "      <th>Infected_soon_after_vaccine</th>\n",
       "      <th>Hospital_Stay_Duration</th>\n",
       "      <th>Age_Preexisting</th>\n",
       "      <th>Vaccine_Infection</th>\n",
       "      <th>Smoke_Preexist</th>\n",
       "      <th>Vaccine_to_Reinfection</th>\n",
       "      <th>Vaccinated_Before_Infection</th>\n",
       "      <th>Recovery_per_Stay</th>\n",
       "      <th>Time_to_Reinfection_per_Recovery</th>\n",
       "    </tr>\n",
       "  </thead>\n",
       "  <tbody>\n",
       "    <tr>\n",
       "      <th>0</th>\n",
       "      <td>69</td>\n",
       "      <td>1</td>\n",
       "      <td>0</td>\n",
       "      <td>4</td>\n",
       "      <td>2</td>\n",
       "      <td>0</td>\n",
       "      <td>3</td>\n",
       "      <td>1</td>\n",
       "      <td>0</td>\n",
       "      <td>0</td>\n",
       "      <td>...</td>\n",
       "      <td>-93</td>\n",
       "      <td>0</td>\n",
       "      <td>13</td>\n",
       "      <td>276</td>\n",
       "      <td>-93</td>\n",
       "      <td>8</td>\n",
       "      <td>-32</td>\n",
       "      <td>0</td>\n",
       "      <td>21.571429</td>\n",
       "      <td>-0.412541</td>\n",
       "    </tr>\n",
       "    <tr>\n",
       "      <th>1</th>\n",
       "      <td>38</td>\n",
       "      <td>1</td>\n",
       "      <td>3</td>\n",
       "      <td>0</td>\n",
       "      <td>4</td>\n",
       "      <td>0</td>\n",
       "      <td>3</td>\n",
       "      <td>0</td>\n",
       "      <td>0</td>\n",
       "      <td>0</td>\n",
       "      <td>...</td>\n",
       "      <td>165</td>\n",
       "      <td>0</td>\n",
       "      <td>4</td>\n",
       "      <td>0</td>\n",
       "      <td>0</td>\n",
       "      <td>0</td>\n",
       "      <td>-61</td>\n",
       "      <td>1</td>\n",
       "      <td>4.600000</td>\n",
       "      <td>4.333333</td>\n",
       "    </tr>\n",
       "    <tr>\n",
       "      <th>2</th>\n",
       "      <td>41</td>\n",
       "      <td>0</td>\n",
       "      <td>4</td>\n",
       "      <td>3</td>\n",
       "      <td>1</td>\n",
       "      <td>0</td>\n",
       "      <td>1</td>\n",
       "      <td>1</td>\n",
       "      <td>1</td>\n",
       "      <td>1</td>\n",
       "      <td>...</td>\n",
       "      <td>-352</td>\n",
       "      <td>0</td>\n",
       "      <td>50</td>\n",
       "      <td>123</td>\n",
       "      <td>-352</td>\n",
       "      <td>6</td>\n",
       "      <td>509</td>\n",
       "      <td>0</td>\n",
       "      <td>0.941176</td>\n",
       "      <td>3.204082</td>\n",
       "    </tr>\n",
       "    <tr>\n",
       "      <th>3</th>\n",
       "      <td>81</td>\n",
       "      <td>0</td>\n",
       "      <td>0</td>\n",
       "      <td>0</td>\n",
       "      <td>2</td>\n",
       "      <td>2</td>\n",
       "      <td>1</td>\n",
       "      <td>0</td>\n",
       "      <td>0</td>\n",
       "      <td>0</td>\n",
       "      <td>...</td>\n",
       "      <td>-445</td>\n",
       "      <td>0</td>\n",
       "      <td>9</td>\n",
       "      <td>0</td>\n",
       "      <td>-445</td>\n",
       "      <td>0</td>\n",
       "      <td>276</td>\n",
       "      <td>0</td>\n",
       "      <td>54.600000</td>\n",
       "      <td>-0.308958</td>\n",
       "    </tr>\n",
       "    <tr>\n",
       "      <th>4</th>\n",
       "      <td>50</td>\n",
       "      <td>0</td>\n",
       "      <td>4</td>\n",
       "      <td>1</td>\n",
       "      <td>2</td>\n",
       "      <td>0</td>\n",
       "      <td>1</td>\n",
       "      <td>0</td>\n",
       "      <td>0</td>\n",
       "      <td>0</td>\n",
       "      <td>...</td>\n",
       "      <td>-117</td>\n",
       "      <td>0</td>\n",
       "      <td>3</td>\n",
       "      <td>50</td>\n",
       "      <td>-117</td>\n",
       "      <td>2</td>\n",
       "      <td>258</td>\n",
       "      <td>0</td>\n",
       "      <td>10.250000</td>\n",
       "      <td>3.357143</td>\n",
       "    </tr>\n",
       "  </tbody>\n",
       "</table>\n",
       "<p>5 rows × 33 columns</p>\n",
       "</div>"
      ],
      "text/plain": [
       "   Age  Gender  Region  Preexisting_Condition  COVID_Strain  Symptoms  \\\n",
       "0   69       1       0                      4             2         0   \n",
       "1   38       1       3                      0             4         0   \n",
       "2   41       0       4                      3             1         0   \n",
       "3   81       0       0                      0             2         2   \n",
       "4   50       0       4                      1             2         0   \n",
       "\n",
       "   Severity  Hospitalized  ICU_Admission  Ventilator_Support  ...  \\\n",
       "0         3             1              0                   0  ...   \n",
       "1         3             0              0                   0  ...   \n",
       "2         1             1              1                   1  ...   \n",
       "3         1             0              0                   0  ...   \n",
       "4         1             0              0                   0  ...   \n",
       "\n",
       "   Vaccine_to_Infection_Days  Infected_soon_after_vaccine  \\\n",
       "0                        -93                            0   \n",
       "1                        165                            0   \n",
       "2                       -352                            0   \n",
       "3                       -445                            0   \n",
       "4                       -117                            0   \n",
       "\n",
       "   Hospital_Stay_Duration  Age_Preexisting  Vaccine_Infection  Smoke_Preexist  \\\n",
       "0                      13              276                -93               8   \n",
       "1                       4                0                  0               0   \n",
       "2                      50              123               -352               6   \n",
       "3                       9                0               -445               0   \n",
       "4                       3               50               -117               2   \n",
       "\n",
       "   Vaccine_to_Reinfection  Vaccinated_Before_Infection  Recovery_per_Stay  \\\n",
       "0                     -32                            0          21.571429   \n",
       "1                     -61                            1           4.600000   \n",
       "2                     509                            0           0.941176   \n",
       "3                     276                            0          54.600000   \n",
       "4                     258                            0          10.250000   \n",
       "\n",
       "   Time_to_Reinfection_per_Recovery  \n",
       "0                         -0.412541  \n",
       "1                          4.333333  \n",
       "2                          3.204082  \n",
       "3                         -0.308958  \n",
       "4                          3.357143  \n",
       "\n",
       "[5 rows x 33 columns]"
      ]
     },
     "execution_count": 31,
     "metadata": {},
     "output_type": "execute_result"
    }
   ],
   "source": [
    "df.head()"
   ]
  },
  {
   "cell_type": "code",
   "execution_count": null,
   "metadata": {
    "id": "v2zl9eYbHdSn"
   },
   "outputs": [],
   "source": []
  },
  {
   "cell_type": "code",
   "execution_count": 32,
   "metadata": {
    "id": "JjyQOBqtH8DQ"
   },
   "outputs": [],
   "source": [
    "df.to_csv(\"../data/Reinfection Engineered Dataset.csv\", index=False)\n"
   ]
  },
  {
   "cell_type": "code",
   "execution_count": null,
   "metadata": {},
   "outputs": [],
   "source": []
  }
 ],
 "metadata": {
  "colab": {
   "provenance": []
  },
  "kernelspec": {
   "display_name": "Python 3 (ipykernel)",
   "language": "python",
   "name": "python3"
  },
  "language_info": {
   "codemirror_mode": {
    "name": "ipython",
    "version": 3
   },
   "file_extension": ".py",
   "mimetype": "text/x-python",
   "name": "python",
   "nbconvert_exporter": "python",
   "pygments_lexer": "ipython3",
   "version": "3.11.7"
  }
 },
 "nbformat": 4,
 "nbformat_minor": 4
}
