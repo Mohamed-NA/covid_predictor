{
 "cells": [
  {
   "cell_type": "markdown",
   "metadata": {
    "id": "cQOTnetNxbKy"
   },
   "source": [
    "# **Data Cleaning Notebook**\n",
    "\n",
    "This notebook handles:\n",
    "\n",
    "\n",
    "  1.Load and clean Dataset\n",
    "\n",
    "  2.Handle missing values\n",
    "\n",
    "  3.Handle outliers\n"
   ]
  },
  {
   "cell_type": "markdown",
   "metadata": {
    "id": "X9M_k8supa_3"
   },
   "source": [
    "# 1.Load and Clean Dataset\n",
    "\n",
    "\n"
   ]
  },
  {
   "cell_type": "markdown",
   "metadata": {
    "id": "IDMTdLUDKynY"
   },
   "source": [
    "Import Libraries"
   ]
  },
  {
   "cell_type": "code",
   "execution_count": 4,
   "metadata": {
    "id": "DXfZDxlLLpg_"
   },
   "outputs": [],
   "source": [
    "import pandas as pd\n",
    "import numpy as np"
   ]
  },
  {
   "cell_type": "markdown",
   "metadata": {
    "id": "tIAm98S7Lybr"
   },
   "source": [
    "Load Dataset"
   ]
  },
  {
   "cell_type": "code",
   "execution_count": 6,
   "metadata": {
    "colab": {
     "base_uri": "https://localhost:8080/",
     "height": 604
    },
    "id": "twNgn5XgMIet",
    "outputId": "5176b62b-dea9-45b5-8192-00fd0b95c127"
   },
   "outputs": [
    {
     "data": {
      "text/html": [
       "<div>\n",
       "<style scoped>\n",
       "    .dataframe tbody tr th:only-of-type {\n",
       "        vertical-align: middle;\n",
       "    }\n",
       "\n",
       "    .dataframe tbody tr th {\n",
       "        vertical-align: top;\n",
       "    }\n",
       "\n",
       "    .dataframe thead th {\n",
       "        text-align: right;\n",
       "    }\n",
       "</style>\n",
       "<table border=\"1\" class=\"dataframe\">\n",
       "  <thead>\n",
       "    <tr style=\"text-align: right;\">\n",
       "      <th></th>\n",
       "      <th>Patient_ID</th>\n",
       "      <th>Age</th>\n",
       "      <th>Gender</th>\n",
       "      <th>Region</th>\n",
       "      <th>Preexisting_Condition</th>\n",
       "      <th>Date_of_Infection</th>\n",
       "      <th>COVID_Strain</th>\n",
       "      <th>Symptoms</th>\n",
       "      <th>Severity</th>\n",
       "      <th>Hospitalized</th>\n",
       "      <th>...</th>\n",
       "      <th>Date_of_Reinfection</th>\n",
       "      <th>Vaccination_Status</th>\n",
       "      <th>Vaccine_Type</th>\n",
       "      <th>Doses_Received</th>\n",
       "      <th>Date_of_Last_Dose</th>\n",
       "      <th>Long_COVID_Symptoms</th>\n",
       "      <th>Occupation</th>\n",
       "      <th>Smoking_Status</th>\n",
       "      <th>BMI</th>\n",
       "      <th>Recovery_Classification</th>\n",
       "    </tr>\n",
       "  </thead>\n",
       "  <tbody>\n",
       "    <tr>\n",
       "      <th>0</th>\n",
       "      <td>1</td>\n",
       "      <td>69</td>\n",
       "      <td>Male</td>\n",
       "      <td>Hovedstaden</td>\n",
       "      <td>Obesity</td>\n",
       "      <td>2022-06-21</td>\n",
       "      <td>Delta</td>\n",
       "      <td>Mild</td>\n",
       "      <td>Moderate</td>\n",
       "      <td>Yes</td>\n",
       "      <td>...</td>\n",
       "      <td>2022-12-15</td>\n",
       "      <td>Yes</td>\n",
       "      <td>NaN</td>\n",
       "      <td>1</td>\n",
       "      <td>2022-09-22</td>\n",
       "      <td>NaN</td>\n",
       "      <td>Healthcare</td>\n",
       "      <td>Never</td>\n",
       "      <td>27.7</td>\n",
       "      <td>Delayed Recovery</td>\n",
       "    </tr>\n",
       "    <tr>\n",
       "      <th>1</th>\n",
       "      <td>2</td>\n",
       "      <td>38</td>\n",
       "      <td>Male</td>\n",
       "      <td>Sjælland</td>\n",
       "      <td>Asthma</td>\n",
       "      <td>2024-02-02</td>\n",
       "      <td>XBB.1.5</td>\n",
       "      <td>Mild</td>\n",
       "      <td>Moderate</td>\n",
       "      <td>No</td>\n",
       "      <td>...</td>\n",
       "      <td>2024-06-08</td>\n",
       "      <td>No</td>\n",
       "      <td>NaN</td>\n",
       "      <td>0</td>\n",
       "      <td>2023-08-21</td>\n",
       "      <td>NaN</td>\n",
       "      <td>Healthcare</td>\n",
       "      <td>Never</td>\n",
       "      <td>21.9</td>\n",
       "      <td>Typical Recovery</td>\n",
       "    </tr>\n",
       "    <tr>\n",
       "      <th>2</th>\n",
       "      <td>3</td>\n",
       "      <td>41</td>\n",
       "      <td>Female</td>\n",
       "      <td>Syddanmark</td>\n",
       "      <td>Hypertension</td>\n",
       "      <td>2023-05-28</td>\n",
       "      <td>Beta</td>\n",
       "      <td>Mild</td>\n",
       "      <td>High</td>\n",
       "      <td>Yes</td>\n",
       "      <td>...</td>\n",
       "      <td>2023-12-19</td>\n",
       "      <td>Yes</td>\n",
       "      <td>Janssen</td>\n",
       "      <td>3</td>\n",
       "      <td>2024-05-14</td>\n",
       "      <td>NaN</td>\n",
       "      <td>Unemployed</td>\n",
       "      <td>Never</td>\n",
       "      <td>22.7</td>\n",
       "      <td>Delayed Recovery</td>\n",
       "    </tr>\n",
       "    <tr>\n",
       "      <th>3</th>\n",
       "      <td>4</td>\n",
       "      <td>81</td>\n",
       "      <td>Female</td>\n",
       "      <td>Hovedstaden</td>\n",
       "      <td>Asthma</td>\n",
       "      <td>2023-08-13</td>\n",
       "      <td>Delta</td>\n",
       "      <td>Severe</td>\n",
       "      <td>High</td>\n",
       "      <td>No</td>\n",
       "      <td>...</td>\n",
       "      <td>2024-08-24</td>\n",
       "      <td>Yes</td>\n",
       "      <td>AstraZeneca</td>\n",
       "      <td>1</td>\n",
       "      <td>2024-10-31</td>\n",
       "      <td>NaN</td>\n",
       "      <td>Office Worker</td>\n",
       "      <td>Never</td>\n",
       "      <td>27.7</td>\n",
       "      <td>Delayed Recovery</td>\n",
       "    </tr>\n",
       "    <tr>\n",
       "      <th>4</th>\n",
       "      <td>5</td>\n",
       "      <td>50</td>\n",
       "      <td>Female</td>\n",
       "      <td>Syddanmark</td>\n",
       "      <td>Cardiovascular</td>\n",
       "      <td>2023-03-10</td>\n",
       "      <td>Delta</td>\n",
       "      <td>Mild</td>\n",
       "      <td>High</td>\n",
       "      <td>No</td>\n",
       "      <td>...</td>\n",
       "      <td>2023-09-08</td>\n",
       "      <td>Yes</td>\n",
       "      <td>NaN</td>\n",
       "      <td>2</td>\n",
       "      <td>2023-07-05</td>\n",
       "      <td>NaN</td>\n",
       "      <td>Student</td>\n",
       "      <td>Never</td>\n",
       "      <td>11.9</td>\n",
       "      <td>Delayed Recovery</td>\n",
       "    </tr>\n",
       "    <tr>\n",
       "      <th>5</th>\n",
       "      <td>6</td>\n",
       "      <td>66</td>\n",
       "      <td>Male</td>\n",
       "      <td>Sjælland</td>\n",
       "      <td>Cardiovascular</td>\n",
       "      <td>2022-07-04</td>\n",
       "      <td>Omicron</td>\n",
       "      <td>Moderate</td>\n",
       "      <td>Moderate</td>\n",
       "      <td>No</td>\n",
       "      <td>...</td>\n",
       "      <td>2023-02-22</td>\n",
       "      <td>Yes</td>\n",
       "      <td>AstraZeneca</td>\n",
       "      <td>3</td>\n",
       "      <td>2025-03-07</td>\n",
       "      <td>NaN</td>\n",
       "      <td>Healthcare</td>\n",
       "      <td>Never</td>\n",
       "      <td>29.8</td>\n",
       "      <td>Delayed Recovery</td>\n",
       "    </tr>\n",
       "    <tr>\n",
       "      <th>6</th>\n",
       "      <td>7</td>\n",
       "      <td>76</td>\n",
       "      <td>Female</td>\n",
       "      <td>Sjælland</td>\n",
       "      <td>Obesity</td>\n",
       "      <td>2023-04-30</td>\n",
       "      <td>Omicron</td>\n",
       "      <td>Moderate</td>\n",
       "      <td>Critical</td>\n",
       "      <td>Yes</td>\n",
       "      <td>...</td>\n",
       "      <td>2023-08-04</td>\n",
       "      <td>No</td>\n",
       "      <td>NaN</td>\n",
       "      <td>0</td>\n",
       "      <td>2022-10-12</td>\n",
       "      <td>NaN</td>\n",
       "      <td>Unemployed</td>\n",
       "      <td>Former</td>\n",
       "      <td>22.3</td>\n",
       "      <td>Delayed Recovery</td>\n",
       "    </tr>\n",
       "    <tr>\n",
       "      <th>7</th>\n",
       "      <td>8</td>\n",
       "      <td>77</td>\n",
       "      <td>Female</td>\n",
       "      <td>Sjælland</td>\n",
       "      <td>Diabetes</td>\n",
       "      <td>2024-03-25</td>\n",
       "      <td>XBB.1.5</td>\n",
       "      <td>Moderate</td>\n",
       "      <td>Low</td>\n",
       "      <td>No</td>\n",
       "      <td>...</td>\n",
       "      <td>2024-09-02</td>\n",
       "      <td>Yes</td>\n",
       "      <td>Janssen</td>\n",
       "      <td>3</td>\n",
       "      <td>2025-05-08</td>\n",
       "      <td>NaN</td>\n",
       "      <td>Driver</td>\n",
       "      <td>Former</td>\n",
       "      <td>24.4</td>\n",
       "      <td>Delayed Recovery</td>\n",
       "    </tr>\n",
       "    <tr>\n",
       "      <th>8</th>\n",
       "      <td>9</td>\n",
       "      <td>79</td>\n",
       "      <td>Female</td>\n",
       "      <td>Nordjylland</td>\n",
       "      <td>Hypertension</td>\n",
       "      <td>2023-11-03</td>\n",
       "      <td>XBB.1.5</td>\n",
       "      <td>Mild</td>\n",
       "      <td>Low</td>\n",
       "      <td>No</td>\n",
       "      <td>...</td>\n",
       "      <td>2024-05-13</td>\n",
       "      <td>No</td>\n",
       "      <td>NaN</td>\n",
       "      <td>0</td>\n",
       "      <td>2023-09-01</td>\n",
       "      <td>NaN</td>\n",
       "      <td>Healthcare</td>\n",
       "      <td>Former</td>\n",
       "      <td>26.1</td>\n",
       "      <td>Typical Recovery</td>\n",
       "    </tr>\n",
       "    <tr>\n",
       "      <th>9</th>\n",
       "      <td>10</td>\n",
       "      <td>72</td>\n",
       "      <td>Female</td>\n",
       "      <td>Sjælland</td>\n",
       "      <td>Cardiovascular</td>\n",
       "      <td>2023-01-11</td>\n",
       "      <td>Alpha</td>\n",
       "      <td>Severe</td>\n",
       "      <td>High</td>\n",
       "      <td>No</td>\n",
       "      <td>...</td>\n",
       "      <td>2023-06-13</td>\n",
       "      <td>Yes</td>\n",
       "      <td>AstraZeneca</td>\n",
       "      <td>1</td>\n",
       "      <td>2024-08-21</td>\n",
       "      <td>NaN</td>\n",
       "      <td>Unemployed</td>\n",
       "      <td>Current</td>\n",
       "      <td>21.2</td>\n",
       "      <td>Delayed Recovery</td>\n",
       "    </tr>\n",
       "    <tr>\n",
       "      <th>10</th>\n",
       "      <td>11</td>\n",
       "      <td>20</td>\n",
       "      <td>Male</td>\n",
       "      <td>Sjælland</td>\n",
       "      <td>Hypertension</td>\n",
       "      <td>2023-04-08</td>\n",
       "      <td>Beta</td>\n",
       "      <td>Severe</td>\n",
       "      <td>Low</td>\n",
       "      <td>No</td>\n",
       "      <td>...</td>\n",
       "      <td>2025-05-21</td>\n",
       "      <td>No</td>\n",
       "      <td>NaN</td>\n",
       "      <td>0</td>\n",
       "      <td>2022-10-20</td>\n",
       "      <td>NaN</td>\n",
       "      <td>Teacher</td>\n",
       "      <td>Never</td>\n",
       "      <td>27.1</td>\n",
       "      <td>Fast Recovery</td>\n",
       "    </tr>\n",
       "    <tr>\n",
       "      <th>11</th>\n",
       "      <td>12</td>\n",
       "      <td>56</td>\n",
       "      <td>Male</td>\n",
       "      <td>Sjælland</td>\n",
       "      <td>Asthma</td>\n",
       "      <td>2023-11-28</td>\n",
       "      <td>Alpha</td>\n",
       "      <td>Mild</td>\n",
       "      <td>Critical</td>\n",
       "      <td>No</td>\n",
       "      <td>...</td>\n",
       "      <td>2024-07-09</td>\n",
       "      <td>No</td>\n",
       "      <td>NaN</td>\n",
       "      <td>0</td>\n",
       "      <td>2023-08-29</td>\n",
       "      <td>NaN</td>\n",
       "      <td>Office Worker</td>\n",
       "      <td>Former</td>\n",
       "      <td>29.2</td>\n",
       "      <td>Delayed Recovery</td>\n",
       "    </tr>\n",
       "    <tr>\n",
       "      <th>12</th>\n",
       "      <td>13</td>\n",
       "      <td>35</td>\n",
       "      <td>Female</td>\n",
       "      <td>Sjælland</td>\n",
       "      <td>Asthma</td>\n",
       "      <td>2022-10-20</td>\n",
       "      <td>Beta</td>\n",
       "      <td>Severe</td>\n",
       "      <td>High</td>\n",
       "      <td>No</td>\n",
       "      <td>...</td>\n",
       "      <td>2023-02-20</td>\n",
       "      <td>No</td>\n",
       "      <td>NaN</td>\n",
       "      <td>0</td>\n",
       "      <td>2022-09-17</td>\n",
       "      <td>NaN</td>\n",
       "      <td>Healthcare</td>\n",
       "      <td>Never</td>\n",
       "      <td>22.0</td>\n",
       "      <td>Delayed Recovery</td>\n",
       "    </tr>\n",
       "    <tr>\n",
       "      <th>13</th>\n",
       "      <td>14</td>\n",
       "      <td>70</td>\n",
       "      <td>Male</td>\n",
       "      <td>Hovedstaden</td>\n",
       "      <td>Hypertension</td>\n",
       "      <td>2023-09-03</td>\n",
       "      <td>Alpha</td>\n",
       "      <td>Severe</td>\n",
       "      <td>Moderate</td>\n",
       "      <td>No</td>\n",
       "      <td>...</td>\n",
       "      <td>2025-03-08</td>\n",
       "      <td>Yes</td>\n",
       "      <td>Moderna</td>\n",
       "      <td>2</td>\n",
       "      <td>2024-03-08</td>\n",
       "      <td>Fatigue</td>\n",
       "      <td>Teacher</td>\n",
       "      <td>Never</td>\n",
       "      <td>29.7</td>\n",
       "      <td>Delayed Recovery</td>\n",
       "    </tr>\n",
       "    <tr>\n",
       "      <th>14</th>\n",
       "      <td>15</td>\n",
       "      <td>77</td>\n",
       "      <td>Male</td>\n",
       "      <td>Syddanmark</td>\n",
       "      <td>Obesity</td>\n",
       "      <td>2022-11-23</td>\n",
       "      <td>Omicron</td>\n",
       "      <td>Mild</td>\n",
       "      <td>Moderate</td>\n",
       "      <td>No</td>\n",
       "      <td>...</td>\n",
       "      <td>2023-03-15</td>\n",
       "      <td>No</td>\n",
       "      <td>NaN</td>\n",
       "      <td>0</td>\n",
       "      <td>2022-08-13</td>\n",
       "      <td>NaN</td>\n",
       "      <td>Driver</td>\n",
       "      <td>Never</td>\n",
       "      <td>24.9</td>\n",
       "      <td>Typical Recovery</td>\n",
       "    </tr>\n",
       "  </tbody>\n",
       "</table>\n",
       "<p>15 rows × 27 columns</p>\n",
       "</div>"
      ],
      "text/plain": [
       "    Patient_ID  Age  Gender       Region Preexisting_Condition  \\\n",
       "0            1   69    Male  Hovedstaden               Obesity   \n",
       "1            2   38    Male     Sjælland                Asthma   \n",
       "2            3   41  Female   Syddanmark          Hypertension   \n",
       "3            4   81  Female  Hovedstaden                Asthma   \n",
       "4            5   50  Female   Syddanmark        Cardiovascular   \n",
       "5            6   66    Male     Sjælland        Cardiovascular   \n",
       "6            7   76  Female     Sjælland               Obesity   \n",
       "7            8   77  Female     Sjælland              Diabetes   \n",
       "8            9   79  Female  Nordjylland          Hypertension   \n",
       "9           10   72  Female     Sjælland        Cardiovascular   \n",
       "10          11   20    Male     Sjælland          Hypertension   \n",
       "11          12   56    Male     Sjælland                Asthma   \n",
       "12          13   35  Female     Sjælland                Asthma   \n",
       "13          14   70    Male  Hovedstaden          Hypertension   \n",
       "14          15   77    Male   Syddanmark               Obesity   \n",
       "\n",
       "   Date_of_Infection COVID_Strain  Symptoms  Severity Hospitalized  ...  \\\n",
       "0         2022-06-21        Delta      Mild  Moderate          Yes  ...   \n",
       "1         2024-02-02      XBB.1.5      Mild  Moderate           No  ...   \n",
       "2         2023-05-28         Beta      Mild      High          Yes  ...   \n",
       "3         2023-08-13        Delta    Severe      High           No  ...   \n",
       "4         2023-03-10        Delta      Mild      High           No  ...   \n",
       "5         2022-07-04      Omicron  Moderate  Moderate           No  ...   \n",
       "6         2023-04-30      Omicron  Moderate  Critical          Yes  ...   \n",
       "7         2024-03-25      XBB.1.5  Moderate       Low           No  ...   \n",
       "8         2023-11-03      XBB.1.5      Mild       Low           No  ...   \n",
       "9         2023-01-11        Alpha    Severe      High           No  ...   \n",
       "10        2023-04-08         Beta    Severe       Low           No  ...   \n",
       "11        2023-11-28        Alpha      Mild  Critical           No  ...   \n",
       "12        2022-10-20         Beta    Severe      High           No  ...   \n",
       "13        2023-09-03        Alpha    Severe  Moderate           No  ...   \n",
       "14        2022-11-23      Omicron      Mild  Moderate           No  ...   \n",
       "\n",
       "   Date_of_Reinfection Vaccination_Status Vaccine_Type Doses_Received  \\\n",
       "0           2022-12-15                Yes          NaN              1   \n",
       "1           2024-06-08                 No          NaN              0   \n",
       "2           2023-12-19                Yes      Janssen              3   \n",
       "3           2024-08-24                Yes  AstraZeneca              1   \n",
       "4           2023-09-08                Yes          NaN              2   \n",
       "5           2023-02-22                Yes  AstraZeneca              3   \n",
       "6           2023-08-04                 No          NaN              0   \n",
       "7           2024-09-02                Yes      Janssen              3   \n",
       "8           2024-05-13                 No          NaN              0   \n",
       "9           2023-06-13                Yes  AstraZeneca              1   \n",
       "10          2025-05-21                 No          NaN              0   \n",
       "11          2024-07-09                 No          NaN              0   \n",
       "12          2023-02-20                 No          NaN              0   \n",
       "13          2025-03-08                Yes      Moderna              2   \n",
       "14          2023-03-15                 No          NaN              0   \n",
       "\n",
       "   Date_of_Last_Dose Long_COVID_Symptoms     Occupation Smoking_Status   BMI  \\\n",
       "0         2022-09-22                 NaN     Healthcare          Never  27.7   \n",
       "1         2023-08-21                 NaN     Healthcare          Never  21.9   \n",
       "2         2024-05-14                 NaN     Unemployed          Never  22.7   \n",
       "3         2024-10-31                 NaN  Office Worker          Never  27.7   \n",
       "4         2023-07-05                 NaN        Student          Never  11.9   \n",
       "5         2025-03-07                 NaN     Healthcare          Never  29.8   \n",
       "6         2022-10-12                 NaN     Unemployed         Former  22.3   \n",
       "7         2025-05-08                 NaN         Driver         Former  24.4   \n",
       "8         2023-09-01                 NaN     Healthcare         Former  26.1   \n",
       "9         2024-08-21                 NaN     Unemployed        Current  21.2   \n",
       "10        2022-10-20                 NaN        Teacher          Never  27.1   \n",
       "11        2023-08-29                 NaN  Office Worker         Former  29.2   \n",
       "12        2022-09-17                 NaN     Healthcare          Never  22.0   \n",
       "13        2024-03-08             Fatigue        Teacher          Never  29.7   \n",
       "14        2022-08-13                 NaN         Driver          Never  24.9   \n",
       "\n",
       "   Recovery_Classification  \n",
       "0         Delayed Recovery  \n",
       "1         Typical Recovery  \n",
       "2         Delayed Recovery  \n",
       "3         Delayed Recovery  \n",
       "4         Delayed Recovery  \n",
       "5         Delayed Recovery  \n",
       "6         Delayed Recovery  \n",
       "7         Delayed Recovery  \n",
       "8         Typical Recovery  \n",
       "9         Delayed Recovery  \n",
       "10           Fast Recovery  \n",
       "11        Delayed Recovery  \n",
       "12        Delayed Recovery  \n",
       "13        Delayed Recovery  \n",
       "14        Typical Recovery  \n",
       "\n",
       "[15 rows x 27 columns]"
      ]
     },
     "execution_count": 6,
     "metadata": {},
     "output_type": "execute_result"
    }
   ],
   "source": [
    "df = pd.read_csv(\"../data/Covid-19 Dataset.csv\")\n",
    "df.head(15)\n"
   ]
  },
  {
   "cell_type": "markdown",
   "metadata": {
    "id": "gWN2cmfoQE_W"
   },
   "source": [
    "Check informations on the dataset"
   ]
  },
  {
   "cell_type": "code",
   "execution_count": 8,
   "metadata": {
    "colab": {
     "base_uri": "https://localhost:8080/"
    },
    "id": "sa6FLRumQNZT",
    "outputId": "3a3a6a55-827b-4e04-bfcb-f7c6ad970496"
   },
   "outputs": [
    {
     "name": "stdout",
     "output_type": "stream",
     "text": [
      "<class 'pandas.core.frame.DataFrame'>\n",
      "RangeIndex: 3000 entries, 0 to 2999\n",
      "Data columns (total 27 columns):\n",
      " #   Column                   Non-Null Count  Dtype  \n",
      "---  ------                   --------------  -----  \n",
      " 0   Patient_ID               3000 non-null   int64  \n",
      " 1   Age                      3000 non-null   int64  \n",
      " 2   Gender                   3000 non-null   object \n",
      " 3   Region                   3000 non-null   object \n",
      " 4   Preexisting_Condition    2531 non-null   object \n",
      " 5   Date_of_Infection        3000 non-null   object \n",
      " 6   COVID_Strain             3000 non-null   object \n",
      " 7   Symptoms                 3000 non-null   object \n",
      " 8   Severity                 3000 non-null   object \n",
      " 9   Hospitalized             3000 non-null   object \n",
      " 10  Hospital_Admission_Date  2850 non-null   object \n",
      " 11  Hospital_Discharge_Date  2850 non-null   object \n",
      " 12  ICU_Admission            3000 non-null   object \n",
      " 13  Ventilator_Support       3000 non-null   object \n",
      " 14  Recovered                3000 non-null   object \n",
      " 15  Date_of_Recovery         2850 non-null   object \n",
      " 16  Reinfection              3000 non-null   object \n",
      " 17  Date_of_Reinfection      2850 non-null   object \n",
      " 18  Vaccination_Status       3000 non-null   object \n",
      " 19  Vaccine_Type             1191 non-null   object \n",
      " 20  Doses_Received           3000 non-null   int64  \n",
      " 21  Date_of_Last_Dose        2850 non-null   object \n",
      " 22  Long_COVID_Symptoms      220 non-null    object \n",
      " 23  Occupation               3000 non-null   object \n",
      " 24  Smoking_Status           3000 non-null   object \n",
      " 25  BMI                      3000 non-null   float64\n",
      " 26  Recovery_Classification  2850 non-null   object \n",
      "dtypes: float64(1), int64(3), object(23)\n",
      "memory usage: 632.9+ KB\n"
     ]
    }
   ],
   "source": [
    "df.info()"
   ]
  },
  {
   "cell_type": "code",
   "execution_count": 9,
   "metadata": {
    "colab": {
     "base_uri": "https://localhost:8080/"
    },
    "id": "R_AVBc8-QRIL",
    "outputId": "2ea87d20-3cb8-4f45-f5f2-865121e18048"
   },
   "outputs": [
    {
     "data": {
      "text/plain": [
       "Index(['Patient_ID', 'Age', 'Gender', 'Region', 'Preexisting_Condition',\n",
       "       'Date_of_Infection', 'COVID_Strain', 'Symptoms', 'Severity',\n",
       "       'Hospitalized', 'Hospital_Admission_Date', 'Hospital_Discharge_Date',\n",
       "       'ICU_Admission', 'Ventilator_Support', 'Recovered', 'Date_of_Recovery',\n",
       "       'Reinfection', 'Date_of_Reinfection', 'Vaccination_Status',\n",
       "       'Vaccine_Type', 'Doses_Received', 'Date_of_Last_Dose',\n",
       "       'Long_COVID_Symptoms', 'Occupation', 'Smoking_Status', 'BMI',\n",
       "       'Recovery_Classification'],\n",
       "      dtype='object')"
      ]
     },
     "execution_count": 9,
     "metadata": {},
     "output_type": "execute_result"
    }
   ],
   "source": [
    "df.columns"
   ]
  },
  {
   "cell_type": "code",
   "execution_count": 10,
   "metadata": {
    "colab": {
     "base_uri": "https://localhost:8080/"
    },
    "id": "SIfnePOSRR60",
    "outputId": "41a84709-0a98-4fd6-ef52-8d1dad9c1a5b"
   },
   "outputs": [
    {
     "data": {
      "text/plain": [
       "(3000, 27)"
      ]
     },
     "execution_count": 10,
     "metadata": {},
     "output_type": "execute_result"
    }
   ],
   "source": [
    "df.shape"
   ]
  },
  {
   "cell_type": "code",
   "execution_count": 11,
   "metadata": {
    "colab": {
     "base_uri": "https://localhost:8080/",
     "height": 300
    },
    "id": "nGbfsvnDoj_v",
    "outputId": "bd981747-c860-463b-d3e9-c91f5dac0039"
   },
   "outputs": [
    {
     "data": {
      "text/html": [
       "<div>\n",
       "<style scoped>\n",
       "    .dataframe tbody tr th:only-of-type {\n",
       "        vertical-align: middle;\n",
       "    }\n",
       "\n",
       "    .dataframe tbody tr th {\n",
       "        vertical-align: top;\n",
       "    }\n",
       "\n",
       "    .dataframe thead th {\n",
       "        text-align: right;\n",
       "    }\n",
       "</style>\n",
       "<table border=\"1\" class=\"dataframe\">\n",
       "  <thead>\n",
       "    <tr style=\"text-align: right;\">\n",
       "      <th></th>\n",
       "      <th>Patient_ID</th>\n",
       "      <th>Age</th>\n",
       "      <th>Doses_Received</th>\n",
       "      <th>BMI</th>\n",
       "    </tr>\n",
       "  </thead>\n",
       "  <tbody>\n",
       "    <tr>\n",
       "      <th>count</th>\n",
       "      <td>3000.000000</td>\n",
       "      <td>3000.000000</td>\n",
       "      <td>3000.000000</td>\n",
       "      <td>3000.000000</td>\n",
       "    </tr>\n",
       "    <tr>\n",
       "      <th>mean</th>\n",
       "      <td>1500.500000</td>\n",
       "      <td>53.944000</td>\n",
       "      <td>0.981667</td>\n",
       "      <td>25.096500</td>\n",
       "    </tr>\n",
       "    <tr>\n",
       "      <th>std</th>\n",
       "      <td>866.169729</td>\n",
       "      <td>20.872919</td>\n",
       "      <td>1.154025</td>\n",
       "      <td>4.898435</td>\n",
       "    </tr>\n",
       "    <tr>\n",
       "      <th>min</th>\n",
       "      <td>1.000000</td>\n",
       "      <td>18.000000</td>\n",
       "      <td>0.000000</td>\n",
       "      <td>10.200000</td>\n",
       "    </tr>\n",
       "    <tr>\n",
       "      <th>25%</th>\n",
       "      <td>750.750000</td>\n",
       "      <td>36.000000</td>\n",
       "      <td>0.000000</td>\n",
       "      <td>21.800000</td>\n",
       "    </tr>\n",
       "    <tr>\n",
       "      <th>50%</th>\n",
       "      <td>1500.500000</td>\n",
       "      <td>54.000000</td>\n",
       "      <td>0.000000</td>\n",
       "      <td>25.100000</td>\n",
       "    </tr>\n",
       "    <tr>\n",
       "      <th>75%</th>\n",
       "      <td>2250.250000</td>\n",
       "      <td>72.000000</td>\n",
       "      <td>2.000000</td>\n",
       "      <td>28.500000</td>\n",
       "    </tr>\n",
       "    <tr>\n",
       "      <th>max</th>\n",
       "      <td>3000.000000</td>\n",
       "      <td>89.000000</td>\n",
       "      <td>3.000000</td>\n",
       "      <td>44.600000</td>\n",
       "    </tr>\n",
       "  </tbody>\n",
       "</table>\n",
       "</div>"
      ],
      "text/plain": [
       "        Patient_ID          Age  Doses_Received          BMI\n",
       "count  3000.000000  3000.000000     3000.000000  3000.000000\n",
       "mean   1500.500000    53.944000        0.981667    25.096500\n",
       "std     866.169729    20.872919        1.154025     4.898435\n",
       "min       1.000000    18.000000        0.000000    10.200000\n",
       "25%     750.750000    36.000000        0.000000    21.800000\n",
       "50%    1500.500000    54.000000        0.000000    25.100000\n",
       "75%    2250.250000    72.000000        2.000000    28.500000\n",
       "max    3000.000000    89.000000        3.000000    44.600000"
      ]
     },
     "execution_count": 11,
     "metadata": {},
     "output_type": "execute_result"
    }
   ],
   "source": [
    "df.describe()"
   ]
  },
  {
   "cell_type": "markdown",
   "metadata": {
    "id": "P4CIQnkHR7P1"
   },
   "source": [
    "Check for duplicate values"
   ]
  },
  {
   "cell_type": "code",
   "execution_count": 13,
   "metadata": {
    "colab": {
     "base_uri": "https://localhost:8080/"
    },
    "id": "Fdbj8r76SCQv",
    "outputId": "af35917a-1401-44dc-ef48-14832e683ba8"
   },
   "outputs": [
    {
     "data": {
      "text/plain": [
       "0"
      ]
     },
     "execution_count": 13,
     "metadata": {},
     "output_type": "execute_result"
    }
   ],
   "source": [
    "df.duplicated().sum()\n"
   ]
  },
  {
   "cell_type": "markdown",
   "metadata": {
    "id": "UEC-5wE7Rc_L"
   },
   "source": [
    "# 2. Handle missing values"
   ]
  },
  {
   "cell_type": "code",
   "execution_count": 15,
   "metadata": {
    "colab": {
     "base_uri": "https://localhost:8080/",
     "height": 930
    },
    "id": "YCkBIbLsRkhp",
    "outputId": "6164e09d-d373-4e6a-acad-90bffef03fb5"
   },
   "outputs": [
    {
     "data": {
      "text/plain": [
       "Patient_ID                    0\n",
       "Age                           0\n",
       "Gender                        0\n",
       "Region                        0\n",
       "Preexisting_Condition       469\n",
       "Date_of_Infection             0\n",
       "COVID_Strain                  0\n",
       "Symptoms                      0\n",
       "Severity                      0\n",
       "Hospitalized                  0\n",
       "Hospital_Admission_Date     150\n",
       "Hospital_Discharge_Date     150\n",
       "ICU_Admission                 0\n",
       "Ventilator_Support            0\n",
       "Recovered                     0\n",
       "Date_of_Recovery            150\n",
       "Reinfection                   0\n",
       "Date_of_Reinfection         150\n",
       "Vaccination_Status            0\n",
       "Vaccine_Type               1809\n",
       "Doses_Received                0\n",
       "Date_of_Last_Dose           150\n",
       "Long_COVID_Symptoms        2780\n",
       "Occupation                    0\n",
       "Smoking_Status                0\n",
       "BMI                           0\n",
       "Recovery_Classification     150\n",
       "dtype: int64"
      ]
     },
     "execution_count": 15,
     "metadata": {},
     "output_type": "execute_result"
    }
   ],
   "source": [
    "df.isnull().sum()"
   ]
  },
  {
   "cell_type": "code",
   "execution_count": 16,
   "metadata": {
    "id": "qHujWSzEi7W-"
   },
   "outputs": [],
   "source": [
    "# df.drop(['Patient_ID','Vaccine_Type','Long_COVID_Symptoms'],axis=1,inplace=True)\n"
   ]
  },
  {
   "cell_type": "markdown",
   "metadata": {
    "id": "7QwvmvD64OXW"
   },
   "source": [
    "### 1. clean initial dataset  \n",
    "- Drop irrelevant columns like `Patient_ID`  \n",
    "- Replace `\"None\"` with `NaN`\n"
   ]
  },
  {
   "cell_type": "code",
   "execution_count": 18,
   "metadata": {
    "id": "3MghSKS83p0S"
   },
   "outputs": [],
   "source": [
    "df.drop(columns=[\"Patient_ID\"], inplace=True)\n",
    "df.replace(\"None\", np.nan, inplace=True)"
   ]
  },
  {
   "cell_type": "code",
   "execution_count": 19,
   "metadata": {
    "colab": {
     "base_uri": "https://localhost:8080/",
     "height": 899
    },
    "id": "YlGzGgQ4jPxS",
    "outputId": "593f1c83-05d0-4e64-9e66-6d07693c4710"
   },
   "outputs": [
    {
     "data": {
      "text/plain": [
       "Age                           0\n",
       "Gender                        0\n",
       "Region                        0\n",
       "Preexisting_Condition       469\n",
       "Date_of_Infection             0\n",
       "COVID_Strain                  0\n",
       "Symptoms                      0\n",
       "Severity                      0\n",
       "Hospitalized                  0\n",
       "Hospital_Admission_Date     150\n",
       "Hospital_Discharge_Date     150\n",
       "ICU_Admission                 0\n",
       "Ventilator_Support            0\n",
       "Recovered                     0\n",
       "Date_of_Recovery            150\n",
       "Reinfection                   0\n",
       "Date_of_Reinfection         150\n",
       "Vaccination_Status            0\n",
       "Vaccine_Type               1809\n",
       "Doses_Received                0\n",
       "Date_of_Last_Dose           150\n",
       "Long_COVID_Symptoms        2780\n",
       "Occupation                    0\n",
       "Smoking_Status                0\n",
       "BMI                           0\n",
       "Recovery_Classification     150\n",
       "dtype: int64"
      ]
     },
     "execution_count": 19,
     "metadata": {},
     "output_type": "execute_result"
    }
   ],
   "source": [
    "df.isnull().sum()"
   ]
  },
  {
   "cell_type": "markdown",
   "metadata": {
    "id": "8z4HkJJh4kGh"
   },
   "source": [
    "### 2. Convert Date Columns and Clean Data\n",
    "- Convert all columns containing `\"Date\"` in their name to datetime objects\n",
    "- Drop rows where either `Date_of_Infection` or `Date_of_Recovery` is missing\n",
    "- Remove any duplicate rows to ensure data integrity\n"
   ]
  },
  {
   "cell_type": "code",
   "execution_count": 21,
   "metadata": {
    "id": "-FQ7V3bE3XfZ"
   },
   "outputs": [],
   "source": [
    "date_cols = [col for col in df.columns if \"Date\" in col]\n",
    "for col in date_cols:\n",
    "    df[col] = pd.to_datetime(df[col], errors='coerce')\n",
    "\n",
    "essential_cols = ['Date_of_Infection', 'Date_of_Recovery']\n",
    "df.dropna(subset=essential_cols, inplace=True)\n",
    "df.drop_duplicates(inplace=True)\n"
   ]
  },
  {
   "cell_type": "code",
   "execution_count": 22,
   "metadata": {
    "colab": {
     "base_uri": "https://localhost:8080/"
    },
    "id": "bdXc0Uq3GgSs",
    "outputId": "31ddf0c8-1014-4c83-88e8-5b70b79dc18b"
   },
   "outputs": [
    {
     "name": "stdout",
     "output_type": "stream",
     "text": [
      "<class 'pandas.core.frame.DataFrame'>\n",
      "Index: 2850 entries, 0 to 2999\n",
      "Data columns (total 26 columns):\n",
      " #   Column                   Non-Null Count  Dtype         \n",
      "---  ------                   --------------  -----         \n",
      " 0   Age                      2850 non-null   int64         \n",
      " 1   Gender                   2850 non-null   object        \n",
      " 2   Region                   2850 non-null   object        \n",
      " 3   Preexisting_Condition    2413 non-null   object        \n",
      " 4   Date_of_Infection        2850 non-null   datetime64[ns]\n",
      " 5   COVID_Strain             2850 non-null   object        \n",
      " 6   Symptoms                 2850 non-null   object        \n",
      " 7   Severity                 2850 non-null   object        \n",
      " 8   Hospitalized             2850 non-null   object        \n",
      " 9   Hospital_Admission_Date  2706 non-null   datetime64[ns]\n",
      " 10  Hospital_Discharge_Date  2706 non-null   datetime64[ns]\n",
      " 11  ICU_Admission            2850 non-null   object        \n",
      " 12  Ventilator_Support       2850 non-null   object        \n",
      " 13  Recovered                2850 non-null   object        \n",
      " 14  Date_of_Recovery         2850 non-null   datetime64[ns]\n",
      " 15  Reinfection              2850 non-null   object        \n",
      " 16  Date_of_Reinfection      2706 non-null   datetime64[ns]\n",
      " 17  Vaccination_Status       2850 non-null   object        \n",
      " 18  Vaccine_Type             1129 non-null   object        \n",
      " 19  Doses_Received           2850 non-null   int64         \n",
      " 20  Date_of_Last_Dose        2713 non-null   datetime64[ns]\n",
      " 21  Long_COVID_Symptoms      220 non-null    object        \n",
      " 22  Occupation               2850 non-null   object        \n",
      " 23  Smoking_Status           2850 non-null   object        \n",
      " 24  BMI                      2850 non-null   float64       \n",
      " 25  Recovery_Classification  2850 non-null   object        \n",
      "dtypes: datetime64[ns](6), float64(1), int64(2), object(17)\n",
      "memory usage: 601.2+ KB\n"
     ]
    }
   ],
   "source": [
    "df.info()"
   ]
  },
  {
   "cell_type": "code",
   "execution_count": 23,
   "metadata": {
    "colab": {
     "base_uri": "https://localhost:8080/",
     "height": 899
    },
    "id": "GZsalMH43Xc8",
    "outputId": "d5e0da97-60a2-49bd-bb72-0c5f25ad4596"
   },
   "outputs": [
    {
     "data": {
      "text/plain": [
       "Age                          72\n",
       "Gender                        2\n",
       "Region                        5\n",
       "Preexisting_Condition         5\n",
       "Date_of_Infection           717\n",
       "COVID_Strain                  5\n",
       "Symptoms                      3\n",
       "Severity                      4\n",
       "Hospitalized                  2\n",
       "Hospital_Admission_Date     956\n",
       "Hospital_Discharge_Date     968\n",
       "ICU_Admission                 2\n",
       "Ventilator_Support            2\n",
       "Recovered                     2\n",
       "Date_of_Recovery            981\n",
       "Reinfection                   2\n",
       "Date_of_Reinfection         860\n",
       "Vaccination_Status            2\n",
       "Vaccine_Type                  4\n",
       "Doses_Received                4\n",
       "Date_of_Last_Dose          1127\n",
       "Long_COVID_Symptoms           4\n",
       "Occupation                    6\n",
       "Smoking_Status                3\n",
       "BMI                         264\n",
       "Recovery_Classification       3\n",
       "dtype: int64"
      ]
     },
     "execution_count": 23,
     "metadata": {},
     "output_type": "execute_result"
    }
   ],
   "source": [
    "df.nunique()"
   ]
  },
  {
   "cell_type": "markdown",
   "metadata": {
    "id": "13MPy88wAHx8"
   },
   "source": [
    "## Handle Outliers"
   ]
  },
  {
   "cell_type": "code",
   "execution_count": 25,
   "metadata": {
    "id": "I2aOFj-09G3Z"
   },
   "outputs": [],
   "source": [
    "Q1 = df['BMI'].quantile(0.25)\n",
    "Q3 = df['BMI'].quantile(0.75)\n",
    "IQR = Q3 - Q1\n",
    "\n",
    "# Define lower and upper bounds\n",
    "lower_bound = Q1 - 1.5 * IQR\n",
    "upper_bound = Q3 + 1.5 * IQR\n",
    "\n",
    "# Filter out outliers\n",
    "df = df[(df['BMI'] >= lower_bound) & (df['BMI'] <= upper_bound)]\n",
    "\n"
   ]
  },
  {
   "cell_type": "code",
   "execution_count": 26,
   "metadata": {
    "colab": {
     "base_uri": "https://localhost:8080/"
    },
    "id": "0mXmMxjS-Wnu",
    "outputId": "b85a64ec-4249-47ed-f780-f5ca0a5166f0"
   },
   "outputs": [
    {
     "name": "stdout",
     "output_type": "stream",
     "text": [
      "11.750000000000002\n",
      "38.55\n"
     ]
    }
   ],
   "source": [
    "print(lower_bound)\n",
    "print(upper_bound)"
   ]
  },
  {
   "cell_type": "code",
   "execution_count": 27,
   "metadata": {
    "colab": {
     "base_uri": "https://localhost:8080/",
     "height": 452
    },
    "id": "Uv2pfYRS9uED",
    "outputId": "45821e89-55c8-49f6-a455-be60fc3a39e1"
   },
   "outputs": [
    {
     "data": {
      "image/png": "[encoded data removed]",
      "text/plain": [
       "<Figure size 640x480 with 1 Axes>"
      ]
     },
     "metadata": {},
     "output_type": "display_data"
    }
   ],
   "source": [
    "import matplotlib.pyplot as plt\n",
    "\n",
    "plt.boxplot(df['BMI'])\n",
    "plt.title(\"BMI Outliers\")\n",
    "plt.show()\n"
   ]
  },
  {
   "cell_type": "code",
   "execution_count": 28,
   "metadata": {
    "colab": {
     "base_uri": "https://localhost:8080/"
    },
    "id": "uy1mXkNw9w9U",
    "outputId": "e01891ab-172c-42a9-d907-f8aa1943be37"
   },
   "outputs": [
    {
     "data": {
      "text/plain": [
       "(2832, 26)"
      ]
     },
     "execution_count": 28,
     "metadata": {},
     "output_type": "execute_result"
    }
   ],
   "source": [
    "df.shape"
   ]
  },
  {
   "cell_type": "markdown",
   "metadata": {
    "id": "IS95NKKrALrX"
   },
   "source": [
    "## Fill Missing Data Values"
   ]
  },
  {
   "cell_type": "code",
   "execution_count": 30,
   "metadata": {
    "colab": {
     "base_uri": "https://localhost:8080/",
     "height": 899
    },
    "id": "D8A_3Lv3_oT_",
    "outputId": "8aa0df8e-759f-481d-d8d1-ac1d04388904"
   },
   "outputs": [
    {
     "data": {
      "text/plain": [
       "Age                           0\n",
       "Gender                        0\n",
       "Region                        0\n",
       "Preexisting_Condition       434\n",
       "Date_of_Infection             0\n",
       "COVID_Strain                  0\n",
       "Symptoms                      0\n",
       "Severity                      0\n",
       "Hospitalized                  0\n",
       "Hospital_Admission_Date     142\n",
       "Hospital_Discharge_Date     142\n",
       "ICU_Admission                 0\n",
       "Ventilator_Support            0\n",
       "Recovered                     0\n",
       "Date_of_Recovery              0\n",
       "Reinfection                   0\n",
       "Date_of_Reinfection         142\n",
       "Vaccination_Status            0\n",
       "Vaccine_Type               1708\n",
       "Doses_Received                0\n",
       "Date_of_Last_Dose           136\n",
       "Long_COVID_Symptoms        2612\n",
       "Occupation                    0\n",
       "Smoking_Status                0\n",
       "BMI                           0\n",
       "Recovery_Classification       0\n",
       "dtype: int64"
      ]
     },
     "execution_count": 30,
     "metadata": {},
     "output_type": "execute_result"
    }
   ],
   "source": [
    "df.isnull().sum()"
   ]
  },
  {
   "cell_type": "code",
   "execution_count": 31,
   "metadata": {
    "colab": {
     "base_uri": "https://localhost:8080/"
    },
    "id": "dDDS9jCcAWqH",
    "outputId": "7035aba6-1248-49cd-e195-07a9813f9cc7"
   },
   "outputs": [],
   "source": [
    "df[\"Hospital_Admission_Date\"].fillna(df[\"Date_of_Infection\"] + pd.Timedelta(days=1), inplace=True)\n",
    "df[\"Hospital_Discharge_Date\"].fillna(df[\"Date_of_Recovery\"], inplace=True)\n",
    "df[\"Date_of_Reinfection\"].fillna(df[\"Date_of_Recovery\"], inplace=True)\n",
    "df[\"Date_of_Last_Dose\"].fillna(df[\"Date_of_Infection\"], inplace=True)\n"
   ]
  },
  {
   "cell_type": "code",
   "execution_count": 32,
   "metadata": {
    "colab": {
     "base_uri": "https://localhost:8080/"
    },
    "id": "-d5ZJjOkB2Nu",
    "outputId": "051fea28-052b-489d-d626-d9bd6133c6e4"
   },
   "outputs": [
    {
     "name": "stdout",
     "output_type": "stream",
     "text": [
      "<class 'pandas.core.frame.DataFrame'>\n",
      "Index: 2832 entries, 0 to 2999\n",
      "Data columns (total 26 columns):\n",
      " #   Column                   Non-Null Count  Dtype         \n",
      "---  ------                   --------------  -----         \n",
      " 0   Age                      2832 non-null   int64         \n",
      " 1   Gender                   2832 non-null   object        \n",
      " 2   Region                   2832 non-null   object        \n",
      " 3   Preexisting_Condition    2398 non-null   object        \n",
      " 4   Date_of_Infection        2832 non-null   datetime64[ns]\n",
      " 5   COVID_Strain             2832 non-null   object        \n",
      " 6   Symptoms                 2832 non-null   object        \n",
      " 7   Severity                 2832 non-null   object        \n",
      " 8   Hospitalized             2832 non-null   object        \n",
      " 9   Hospital_Admission_Date  2832 non-null   datetime64[ns]\n",
      " 10  Hospital_Discharge_Date  2832 non-null   datetime64[ns]\n",
      " 11  ICU_Admission            2832 non-null   object        \n",
      " 12  Ventilator_Support       2832 non-null   object        \n",
      " 13  Recovered                2832 non-null   object        \n",
      " 14  Date_of_Recovery         2832 non-null   datetime64[ns]\n",
      " 15  Reinfection              2832 non-null   object        \n",
      " 16  Date_of_Reinfection      2832 non-null   datetime64[ns]\n",
      " 17  Vaccination_Status       2832 non-null   object        \n",
      " 18  Vaccine_Type             1124 non-null   object        \n",
      " 19  Doses_Received           2832 non-null   int64         \n",
      " 20  Date_of_Last_Dose        2832 non-null   datetime64[ns]\n",
      " 21  Long_COVID_Symptoms      220 non-null    object        \n",
      " 22  Occupation               2832 non-null   object        \n",
      " 23  Smoking_Status           2832 non-null   object        \n",
      " 24  BMI                      2832 non-null   float64       \n",
      " 25  Recovery_Classification  2832 non-null   object        \n",
      "dtypes: datetime64[ns](6), float64(1), int64(2), object(17)\n",
      "memory usage: 597.4+ KB\n"
     ]
    }
   ],
   "source": [
    "df.info()"
   ]
  },
  {
   "cell_type": "code",
   "execution_count": 33,
   "metadata": {
    "id": "Bu2IsplhCCJM"
   },
   "outputs": [],
   "source": [
    "df.to_csv(\"../data/Cleaned_Data.csv\", index=False)"
   ]
  },
  {
   "cell_type": "code",
   "execution_count": null,
   "metadata": {},
   "outputs": [],
   "source": []
  }
 ],
 "metadata": {
  "colab": {
   "provenance": []
  },
  "kernelspec": {
   "display_name": "Python 3 (ipykernel)",
   "language": "python",
   "name": "python3"
  },
  "language_info": {
   "codemirror_mode": {
    "name": "ipython",
    "version": 3
   },
   "file_extension": ".py",
   "mimetype": "text/x-python",
   "name": "python",
   "nbconvert_exporter": "python",
   "pygments_lexer": "ipython3",
   "version": "3.11.7"
  }
 },
 "nbformat": 4,
 "nbformat_minor": 4
}
